{
  "cells": [
    {
      "cell_type": "code",
      "execution_count": 24,
      "id": "3bc35d27",
      "metadata": {
        "colab": {
          "base_uri": "https://localhost:8080/"
        },
        "id": "3bc35d27",
        "outputId": "dceefb18-81af-43cb-a17c-543e82a39357"
      },
      "outputs": [
        {
          "output_type": "stream",
          "name": "stdout",
          "text": [
            "Epoch 1/10\n",
            "10/10 [==============================] - 1s 25ms/step - loss: 0.6855 - accuracy: 0.5656 - val_loss: 0.6581 - val_accuracy: 0.6914\n",
            "Epoch 2/10\n",
            "10/10 [==============================] - 0s 7ms/step - loss: 0.6532 - accuracy: 0.6375 - val_loss: 0.6287 - val_accuracy: 0.7037\n",
            "Epoch 3/10\n",
            "10/10 [==============================] - 0s 8ms/step - loss: 0.6188 - accuracy: 0.7063 - val_loss: 0.5968 - val_accuracy: 0.7407\n",
            "Epoch 4/10\n",
            "10/10 [==============================] - 0s 10ms/step - loss: 0.5892 - accuracy: 0.7375 - val_loss: 0.5620 - val_accuracy: 0.7531\n",
            "Epoch 5/10\n",
            "10/10 [==============================] - 0s 9ms/step - loss: 0.5479 - accuracy: 0.7625 - val_loss: 0.5279 - val_accuracy: 0.7654\n",
            "Epoch 6/10\n",
            "10/10 [==============================] - 0s 9ms/step - loss: 0.5075 - accuracy: 0.7937 - val_loss: 0.4981 - val_accuracy: 0.7901\n",
            "Epoch 7/10\n",
            "10/10 [==============================] - 0s 9ms/step - loss: 0.4705 - accuracy: 0.8406 - val_loss: 0.4676 - val_accuracy: 0.8025\n",
            "Epoch 8/10\n",
            "10/10 [==============================] - 0s 9ms/step - loss: 0.4300 - accuracy: 0.8625 - val_loss: 0.4379 - val_accuracy: 0.8272\n",
            "Epoch 9/10\n",
            "10/10 [==============================] - 0s 9ms/step - loss: 0.3831 - accuracy: 0.8844 - val_loss: 0.4105 - val_accuracy: 0.8395\n",
            "Epoch 10/10\n",
            "10/10 [==============================] - 0s 9ms/step - loss: 0.3513 - accuracy: 0.8938 - val_loss: 0.3865 - val_accuracy: 0.8519\n",
            "3/3 [==============================] - 0s 5ms/step - loss: 0.3865 - accuracy: 0.8519\n",
            "Test Accuracy: 0.8518518805503845\n"
          ]
        }
      ],
      "source": [
        "import pandas as pd\n",
        "import tensorflow as tf\n",
        "from sklearn.model_selection import train_test_split\n",
        "from sklearn.feature_extraction.text import TfidfVectorizer\n",
        "\n",
        "\n",
        "data = pd.read_csv('Hallucination-Dataset-400-Samples.csv')\n",
        "\n",
        "data.dropna(subset=['Context', 'Question', 'Answer', 'Hallucination'], inplace=True)\n",
        "\n",
        "\n",
        "X_text = data[['Context', 'Question', 'Answer']].apply(lambda x: ' '.join(x), axis=1)\n",
        "y = data['Hallucination']\n",
        "\n",
        "\n",
        "X_train, X_test, y_train, y_test = train_test_split(X_text, y, test_size=0.2, random_state=42)\n",
        "\n",
        "\n",
        "tfidf_vectorizer = TfidfVectorizer(max_features=1000)\n",
        "X_train_tfidf = tfidf_vectorizer.fit_transform(X_train)\n",
        "X_test_tfidf = tfidf_vectorizer.transform(X_test)\n",
        "\n",
        "\n",
        "\n",
        "X_train_array = X_train_tfidf.toarray()\n",
        "X_test_array = X_test_tfidf.toarray()\n",
        "\n",
        "\n",
        "model = tf.keras.Sequential([\n",
        "    tf.keras.layers.Dense(128, activation='relu', input_shape=(X_train_array.shape[1],)),\n",
        "    tf.keras.layers.Dropout(0.5),\n",
        "    tf.keras.layers.Dense(1, activation='sigmoid')\n",
        "])\n",
        "\n",
        "\n",
        "model.compile(optimizer='adam', loss='binary_crossentropy', metrics=['accuracy'])\n",
        "\n",
        "#model.save('tf_model')\n",
        "#loaded_model = tf.keras.models.load_model('tf_model')\n",
        "\n",
        "history = model.fit(X_train_array, y_train, epochs= 10, batch_size=32, validation_data=(X_test_array, y_test))\n",
        "loss, accuracy = model.evaluate(X_test_array, y_test)\n",
        "print(\"Test Accuracy:\", accuracy)\n"
      ]
    },
    {
      "cell_type": "code",
      "execution_count": 8,
      "id": "c1cb4aef",
      "metadata": {
        "colab": {
          "base_uri": "https://localhost:8080/"
        },
        "id": "c1cb4aef",
        "outputId": "c954cd50-7211-4603-9a24-79bb205d9fb1"
      },
      "outputs": [
        {
          "output_type": "stream",
          "name": "stdout",
          "text": [
            "13/13 [==============================] - 0s 2ms/step\n",
            "[1 1 0 0 1 1 1 1 1 1 1 1 0 1 1 1 1 1 1 1 1 1 1 1 1 1 1 1 1 1 0 1 1 1 0 1 1\n",
            " 1 0 1 0 1 1 1 1 1 1 1 1 1 0 1 1 1 1 1 1 1 1 1 1 1 1 1 1 1 1 1 1 1 1 1 1 1\n",
            " 1 1 1 1 1 1 1 0 1 1 1 1 0 1 1 1 1 1 1 1 1 1 1 1 1 1 0 1 1 1 1 0 1 1 1 1 1\n",
            " 1 1 1 1 1 1 1 1 1 1 1 1 1 1 1 1 1 1 1 1 1 1 1 1 1 1 1 1 1 1 1 1 1 1 1 1 1\n",
            " 1 0 1 1 0 1 1 1 1 1 1 1 1 1 0 1 1 1 1 1 1 1 1 1 1 1 1 1 1 1 1 1 1 1 1 1 0\n",
            " 1 1 1 1 1 1 1 1 1 1 1 1 1 1 1 1 1 1 1 1 1 1 1 0 1 1 1 1 0 1 1 1 1 1 1 1 1\n",
            " 1 1 1 1 1 1 1 1 1 1 1 1 1 1 1 1 1 1 1 1 0 1 1 1 1 1 1 1 1 1 1 1 1 1 1 1 1\n",
            " 1 1 1 1 1 1 1 1 1 1 1 0 1 1 1 1 1 1 1 1 1 1 1 1 1 1 1 1 1 1 1 1 1 1 1 1 1\n",
            " 1 1 1 1 1 1 1 1 1 1 1 1 1 1 1 1 1 1 1 1 1 1 1 1 1 1 1 1 1 1 1 1 0 1 1 1 1\n",
            " 1 1 1 1 1 1 1 1 1 1 1 1 1 1 1 1 1 1 1 1 1 1 1 1 1 1 0 1 1 1 1 1 1 0 1 1 1\n",
            " 1 1 1 1 1 1 1 1 1 1 1 1 1 1 1 1 1 1 1 1 1 1 1 1 1 1 1 1 0 1 1]\n",
            "[1 1 0 0 1 1 1 1 1 1 1 1 1 1 0 0 0 0 0 1 1 1 0 0 1 1 0 1 0 1 0 1 1 1 0 1 0\n",
            " 0 1 1 0 1 1 1 1 1 1 0 0 1 0 0 1 0 1 1 0 1 0 1 0 1 1 1 1 0 1 1 1 1 0 1 0 1\n",
            " 0 1 0 1 0 0 0 0 0 1 0 0 0 1 0 0 1 1 1 1 1 0 0 1 1 1 0 1 0 1 0 0 0 1 1 0 0\n",
            " 1 1 0 1 0 1 1 1 0 0 1 0 1 1 0 0 1 0 0 1 0 1 1 0 1 1 1 0 0 1 1 1 0 1 0 1 1\n",
            " 1 1 1 1 0 1 0 0 1 1 0 1 1 0 0 0 1 1 1 0 0 0 0 1 1 1 0 0 1 0 0 0 1 1 0 1 1\n",
            " 0 1 1 1 1 1 1 0 1 0 0 1 1 1 1 1 0 1 1 1 0 0 1 0 0 1 1 0 0 1 0 1 1 1 1 0 1\n",
            " 1 1 0 1 1 0 1 1 1 1 1 1 1 0 0 1 1 1 1 0 1 0 1 1 1 1 0 1 1 1 0 1 1 1 0 1 1\n",
            " 1 1 1 1 0 1 0 1 0 0 0 1 1 1 1 1 1 0 0 0 1 1 0 1 0 0 0 1 1 0 1 1 1 1 1 1 0\n",
            " 0 1 0 0 1 1 1 0 0 0 1 0 0 0 1 1 1 1 1 1 1 1 0 1 1 1 1 1 1 0 1 0 0 1 1 1 1\n",
            " 0 1 1 0 1 1 0 1 1 0 1 0 1 0 0 0 1 1 0 1 0 1 0 1 1 0 1 0 0 1 0 1 1 0 1 1 0\n",
            " 1 0 0 0 0 0 1 1 1 0 1 0 0 1 1 1 1 1 1 1 1 0 1 0 0 0 1 0 0 1 1]\n"
          ]
        }
      ],
      "source": [
        "X_text = data[['Context', 'Question', 'Answer']].apply(lambda x: ' '.join(x), axis=1)\n",
        "tfidf_vectorizer = TfidfVectorizer(max_features=1000)\n",
        "X_train_full = tfidf_vectorizer.fit_transform(X_text)\n",
        "X_train_full = X_train_full.toarray()\n",
        "\n",
        "y_pred = model.predict(X_train_full)\n",
        "y_pred_binary = (y_pred > 0.5).astype(int)\n",
        "\n",
        "print(y_pred_binary.flatten())\n",
        "print(data['Hallucination'].to_numpy())"
      ]
    },
    {
      "cell_type": "code",
      "execution_count": 9,
      "id": "7e84db7d",
      "metadata": {
        "id": "7e84db7d"
      },
      "outputs": [],
      "source": [
        "data['Prediction'] = y_pred_binary\n",
        "data.to_csv('Final_Output_Tensorflow.csv', index=False)"
      ]
    },
    {
      "cell_type": "code",
      "execution_count": 6,
      "id": "614c2dcf",
      "metadata": {
        "colab": {
          "base_uri": "https://localhost:8080/"
        },
        "id": "614c2dcf",
        "outputId": "be734c6a-6bbc-4400-9e4b-c895862da0be"
      },
      "outputs": [
        {
          "output_type": "stream",
          "name": "stdout",
          "text": [
            "3/3 [==============================] - 0s 4ms/step\n",
            "F1 score: 0.8983050847457628\n"
          ]
        }
      ],
      "source": [
        "import numpy as np\n",
        "from sklearn.metrics import f1_score\n",
        "\n",
        "# Get model predictions\n",
        "y_pred_proba = model.predict(X_test_array)\n",
        "y_pred = np.round(y_pred_proba).astype(int)\n",
        "\n",
        "# Convert to 1D arrays if necessary\n",
        "y_test = np.array(y_test)\n",
        "y_pred = np.squeeze(y_pred)\n",
        "\n",
        "# Calculate F1 score\n",
        "f1 = f1_score(y_test, y_pred)\n",
        "\n",
        "print(\"F1 score:\", f1)"
      ]
    },
    {
      "cell_type": "code",
      "source": [
        "import pandas as pd\n",
        "import tensorflow as tf\n",
        "from sklearn.feature_extraction.text import TfidfVectorizer\n",
        "\n",
        "# Load the trained model\n",
        "#model = tf.keras.models.load_model('path_to_your_trained_model.h5')\n",
        "\n",
        "# Read user input data from CSV\n",
        "user_input_data = pd.read_csv('input.csv')   # Replace '400Data.csv' with the name of your user input CSV file\n",
        "\n",
        "# Preprocess user input data\n",
        "X_text_user = user_input_data[['Context', 'Question', 'Answer']].apply(lambda x: ' '.join(str(i) for i in x if isinstance(i, str)), axis=1)\n",
        "\n",
        "\n",
        "# Use the same TF-IDF vectorizer\n",
        "tfidf_vectorizer_user = TfidfVectorizer(max_features=1000)\n",
        "X_user_tfidf = tfidf_vectorizer_user.fit_transform(X_text_user)\n",
        "\n",
        "# Convert TF-IDF vectors to arrays\n",
        "X_user_array = X_user_tfidf.toarray()\n",
        "\n",
        "# Make predictions\n",
        "predictions = model.predict(X_user_array)\n",
        "\n",
        "# Print or save predictions\n",
        "\n",
        "y_pred_binary = (predictions> 0.5).astype(int)\n",
        "\n",
        "\n",
        "\n",
        "user_input_data[\"Prediction\"]=y_pred_binary\n",
        "user_input_data.head()\n",
        "user_input_data.to_csv(\"Final_output_of_user.csv\")\n"
      ],
      "metadata": {
        "colab": {
          "base_uri": "https://localhost:8080/"
        },
        "id": "qSg1zYlx9o6Y",
        "outputId": "e62c66b5-d4fd-4b42-c251-067636a4a6bc"
      },
      "id": "qSg1zYlx9o6Y",
      "execution_count": 37,
      "outputs": [
        {
          "output_type": "stream",
          "name": "stdout",
          "text": [
            "13/13 [==============================] - 0s 4ms/step\n"
          ]
        }
      ]
    },
    {
      "cell_type": "code",
      "source": [
        "# prompt: make user output csv file and make prediction column and put the value of\n",
        "\n",
        "import pandas as pd\n",
        "user_output_data = pd.DataFrame(columns=['Context', 'Question', 'Answer', 'Prediction'])\n",
        "\n",
        "user_output_data['Context'] = user_input_data['Context']\n",
        "user_output_data['Question'] = user_input_data['Question']\n",
        "user_output_data['Answer'] = user_input_data['Answer']\n",
        "user_output_data['Prediction'] = y_pred_binary.flatten()\n",
        "\n",
        "user_output_data.to_csv('user_output.csv', index=False)\n"
      ],
      "metadata": {
        "id": "FiSCssc7I5Si"
      },
      "id": "FiSCssc7I5Si",
      "execution_count": null,
      "outputs": []
    },
    {
      "cell_type": "code",
      "source": [
        "# prompt: Auc/roc graph\n",
        "\n",
        "from sklearn.metrics import roc_auc_score\n",
        "from sklearn.metrics import roc_curve\n",
        "import matplotlib.pyplot as plt\n",
        "\n",
        "# Calculate ROC and AUC\n",
        "fpr, tpr, thresholds = roc_curve(y_test, y_pred_proba)\n",
        "auc = roc_auc_score(y_test, y_pred_proba)\n",
        "\n",
        "# Plot ROC curve\n",
        "plt.figure()\n",
        "plt.plot(fpr, tpr, label='ROC (AUC = %0.2f)' % auc)\n",
        "plt.plot([0, 1], [0, 1], 'k--')\n",
        "plt.xlim([0.0, 1.0])\n",
        "plt.ylim([0.0, 1.05])\n",
        "plt.xlabel('False Positive Rate')\n",
        "plt.ylabel('True Positive Rate')\n",
        "plt.title('Receiver Operating Characteristic (ROC)')\n",
        "plt.legend(loc='lower right')\n",
        "plt.show()\n"
      ],
      "metadata": {
        "colab": {
          "base_uri": "https://localhost:8080/",
          "height": 472
        },
        "id": "CUEJfCqLHW_j",
        "outputId": "0f8799a1-e2a5-4db8-8b68-d6bc5663347c"
      },
      "id": "CUEJfCqLHW_j",
      "execution_count": 25,
      "outputs": [
        {
          "output_type": "display_data",
          "data": {
            "text/plain": [
              "<Figure size 640x480 with 1 Axes>"
            ],
            "image/png": "[encoded data removed]"
          },
          "metadata": {}
        }
      ]
    }
  ],
  "metadata": {
    "kernelspec": {
      "display_name": "Python 3 (ipykernel)",
      "language": "python",
      "name": "python3"
    },
    "language_info": {
      "codemirror_mode": {
        "name": "ipython",
        "version": 3
      },
      "file_extension": ".py",
      "mimetype": "text/x-python",
      "name": "python",
      "nbconvert_exporter": "python",
      "pygments_lexer": "ipython3",
      "version": "3.9.13"
    },
    "colab": {
      "provenance": []
    }
  },
  "nbformat": 4,
  "nbformat_minor": 5
}